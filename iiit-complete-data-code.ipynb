{
 "cells": [
  {
   "cell_type": "code",
   "execution_count": 1,
   "id": "5a76bc1f",
   "metadata": {
    "_cell_guid": "b1076dfc-b9ad-4769-8c92-a6c4dae69d19",
    "_uuid": "8f2839f25d086af736a60e9eeb907d3b93b6e0e5",
    "execution": {
     "iopub.execute_input": "2024-02-13T17:58:20.855086Z",
     "iopub.status.busy": "2024-02-13T17:58:20.854391Z",
     "iopub.status.idle": "2024-02-13T17:58:39.490279Z",
     "shell.execute_reply": "2024-02-13T17:58:39.488554Z"
    },
    "papermill": {
     "duration": 18.644998,
     "end_time": "2024-02-13T17:58:39.492968",
     "exception": false,
     "start_time": "2024-02-13T17:58:20.847970",
     "status": "completed"
    },
    "tags": []
   },
   "outputs": [
    {
     "name": "stderr",
     "output_type": "stream",
     "text": [
      "2024-02-13 17:58:26.090354: E external/local_xla/xla/stream_executor/cuda/cuda_dnn.cc:9261] Unable to register cuDNN factory: Attempting to register factory for plugin cuDNN when one has already been registered\n",
      "2024-02-13 17:58:26.090495: E external/local_xla/xla/stream_executor/cuda/cuda_fft.cc:607] Unable to register cuFFT factory: Attempting to register factory for plugin cuFFT when one has already been registered\n",
      "2024-02-13 17:58:26.268730: E external/local_xla/xla/stream_executor/cuda/cuda_blas.cc:1515] Unable to register cuBLAS factory: Attempting to register factory for plugin cuBLAS when one has already been registered\n"
     ]
    },
    {
     "name": "stdout",
     "output_type": "stream",
     "text": [
      "Done\n"
     ]
    }
   ],
   "source": [
    "#IMPORT THE LIBRARIES\n",
    "import pandas as pd\n",
    "import numpy as np\n",
    "\n",
    "import os\n",
    "import sys\n",
    "\n",
    "import librosa\n",
    "import librosa.display\n",
    "import seaborn as sns\n",
    "import matplotlib.pyplot as plt\n",
    "\n",
    "from sklearn.preprocessing import StandardScaler, OneHotEncoder\n",
    "from sklearn.metrics import confusion_matrix, classification_report\n",
    "from sklearn.model_selection import train_test_split\n",
    "\n",
    "# to play the audio files\n",
    "import IPython.display as ipd\n",
    "from IPython.display import Audio\n",
    "import keras\n",
    "from keras.preprocessing import sequence\n",
    "from keras.models import Sequential\n",
    "from keras.layers import Dense, Embedding\n",
    "from keras.layers import LSTM,BatchNormalization , GRU\n",
    "from keras.preprocessing.text import Tokenizer\n",
    "from keras.preprocessing.sequence import pad_sequences\n",
    "from tensorflow.keras.utils import to_categorical\n",
    "from keras.layers import Input, Flatten, Dropout, Activation\n",
    "from keras.layers import Conv1D, MaxPooling1D, AveragePooling1D\n",
    "from keras.models import Model\n",
    "from keras.callbacks import ModelCheckpoint\n",
    "from tensorflow.keras.optimizers import SGD\n",
    "\n",
    "import warnings\n",
    "if not sys.warnoptions:\n",
    "    warnings.simplefilter(\"ignore\")\n",
    "warnings.filterwarnings(\"ignore\", category=DeprecationWarning) \n",
    "import tensorflow as tf \n",
    "print (\"Done\")"
   ]
  },
  {
   "cell_type": "code",
   "execution_count": 2,
   "id": "d79287aa",
   "metadata": {
    "execution": {
     "iopub.execute_input": "2024-02-13T17:58:39.505499Z",
     "iopub.status.busy": "2024-02-13T17:58:39.504159Z",
     "iopub.status.idle": "2024-02-13T17:58:39.509252Z",
     "shell.execute_reply": "2024-02-13T17:58:39.508343Z"
    },
    "papermill": {
     "duration": 0.014125,
     "end_time": "2024-02-13T17:58:39.511607",
     "exception": false,
     "start_time": "2024-02-13T17:58:39.497482",
     "status": "completed"
    },
    "tags": []
   },
   "outputs": [],
   "source": [
    "Crema = \"/kaggle/input/cremad/AudioWAV/\""
   ]
  },
  {
   "cell_type": "code",
   "execution_count": 3,
   "id": "84fabca1",
   "metadata": {
    "execution": {
     "iopub.execute_input": "2024-02-13T17:58:39.522022Z",
     "iopub.status.busy": "2024-02-13T17:58:39.521368Z",
     "iopub.status.idle": "2024-02-13T17:58:39.918910Z",
     "shell.execute_reply": "2024-02-13T17:58:39.917292Z"
    },
    "papermill": {
     "duration": 0.405731,
     "end_time": "2024-02-13T17:58:39.921489",
     "exception": false,
     "start_time": "2024-02-13T17:58:39.515758",
     "status": "completed"
    },
    "tags": []
   },
   "outputs": [
    {
     "name": "stdout",
     "output_type": "stream",
     "text": [
      "Emotions\n",
      "XX.WAV    6076\n",
      "LO.WAV     455\n",
      "HI.WAV     455\n",
      "MD.WAV     455\n",
      "X.WAV        1\n",
      "Name: count, dtype: int64\n"
     ]
    }
   ],
   "source": [
    "import os\n",
    "import pandas as pd\n",
    "\n",
    "# Define the path to the dataset\n",
    "Crema = \"/kaggle/input/cremad/AudioWAV\"\n",
    "\n",
    "# Loop through the directory and extract the emotions and paths of the audio files\n",
    "file_emotion = []\n",
    "file_path = []\n",
    "for filename in os.listdir(Crema):\n",
    "    emotion = filename.split(\"_\")[3].upper()\n",
    "    file_path.append(os.path.join(Crema, filename))\n",
    "    file_emotion.append(emotion)\n",
    "\n",
    "# Create dataframes for the emotions and paths\n",
    "emotion_df = pd.DataFrame(file_emotion, columns=['Emotions'])\n",
    "path_df = pd.DataFrame(file_path, columns=['Path'])\n",
    "\n",
    "# Concatenate the dataframes and display the first few rows\n",
    "Crema_df = pd.concat([emotion_df, path_df], axis=1)\n",
    "print(Crema_df.Emotions.value_counts())"
   ]
  },
  {
   "cell_type": "code",
   "execution_count": 4,
   "id": "11923b81",
   "metadata": {
    "execution": {
     "iopub.execute_input": "2024-02-13T17:58:39.932724Z",
     "iopub.status.busy": "2024-02-13T17:58:39.931497Z",
     "iopub.status.idle": "2024-02-13T17:58:39.964324Z",
     "shell.execute_reply": "2024-02-13T17:58:39.962911Z"
    },
    "papermill": {
     "duration": 0.041339,
     "end_time": "2024-02-13T17:58:39.967200",
     "exception": false,
     "start_time": "2024-02-13T17:58:39.925861",
     "status": "completed"
    },
    "tags": []
   },
   "outputs": [
    {
     "name": "stdout",
     "output_type": "stream",
     "text": [
      "Emotions\n",
      "disgust    1271\n",
      "happy      1271\n",
      "sad        1271\n",
      "fear       1271\n",
      "angry      1271\n",
      "neutral    1087\n",
      "Name: count, dtype: int64\n"
     ]
    }
   ],
   "source": [
    "crema_directory_list = os.listdir(Crema)\n",
    "\n",
    "file_emotion = []\n",
    "file_path = []\n",
    "\n",
    "for file in crema_directory_list:\n",
    "    # storing file paths\n",
    "    file_path.append(Crema + file)\n",
    "    # storing file emotions\n",
    "    part=file.split('_')\n",
    "    if part[2] == 'SAD':\n",
    "        file_emotion.append('sad')\n",
    "    elif part[2] == 'ANG':\n",
    "        file_emotion.append('angry')\n",
    "    elif part[2] == 'DIS':\n",
    "        file_emotion.append('disgust')\n",
    "    elif part[2] == 'FEA':\n",
    "        file_emotion.append('fear')\n",
    "    elif part[2] == 'HAP':\n",
    "        file_emotion.append('happy')\n",
    "    elif part[2] == 'NEU':\n",
    "        file_emotion.append('neutral')\n",
    "    else:\n",
    "        file_emotion.append('Unknown')\n",
    "    \n",
    "# dataframe for emotion of files\n",
    "emotion_df = pd.DataFrame(file_emotion, columns=['Emotions'])\n",
    "\n",
    "# dataframe for path of files.\n",
    "path_df = pd.DataFrame(file_path, columns=['Path'])\n",
    "Crema_df = pd.concat([emotion_df, path_df], axis=1)\n",
    "Crema_df.head()\n",
    "print(Crema_df.Emotions.value_counts())"
   ]
  },
  {
   "cell_type": "code",
   "execution_count": 5,
   "id": "b12d15ba",
   "metadata": {
    "execution": {
     "iopub.execute_input": "2024-02-13T17:58:39.977610Z",
     "iopub.status.busy": "2024-02-13T17:58:39.977199Z",
     "iopub.status.idle": "2024-02-13T17:58:40.030949Z",
     "shell.execute_reply": "2024-02-13T17:58:40.028892Z"
    },
    "papermill": {
     "duration": 0.062167,
     "end_time": "2024-02-13T17:58:40.033681",
     "exception": false,
     "start_time": "2024-02-13T17:58:39.971514",
     "status": "completed"
    },
    "tags": []
   },
   "outputs": [
    {
     "data": {
      "text/html": [
       "<div>\n",
       "<style scoped>\n",
       "    .dataframe tbody tr th:only-of-type {\n",
       "        vertical-align: middle;\n",
       "    }\n",
       "\n",
       "    .dataframe tbody tr th {\n",
       "        vertical-align: top;\n",
       "    }\n",
       "\n",
       "    .dataframe thead th {\n",
       "        text-align: right;\n",
       "    }\n",
       "</style>\n",
       "<table border=\"1\" class=\"dataframe\">\n",
       "  <thead>\n",
       "    <tr style=\"text-align: right;\">\n",
       "      <th></th>\n",
       "      <th>Emotions</th>\n",
       "      <th>Path</th>\n",
       "    </tr>\n",
       "  </thead>\n",
       "  <tbody>\n",
       "    <tr>\n",
       "      <th>0</th>\n",
       "      <td>disgust</td>\n",
       "      <td>/kaggle/input/cremad/AudioWAV1028_TSI_DIS_XX.wav</td>\n",
       "    </tr>\n",
       "    <tr>\n",
       "      <th>1</th>\n",
       "      <td>happy</td>\n",
       "      <td>/kaggle/input/cremad/AudioWAV1075_IEO_HAP_LO.wav</td>\n",
       "    </tr>\n",
       "    <tr>\n",
       "      <th>2</th>\n",
       "      <td>happy</td>\n",
       "      <td>/kaggle/input/cremad/AudioWAV1084_ITS_HAP_XX.wav</td>\n",
       "    </tr>\n",
       "    <tr>\n",
       "      <th>3</th>\n",
       "      <td>disgust</td>\n",
       "      <td>/kaggle/input/cremad/AudioWAV1067_IWW_DIS_XX.wav</td>\n",
       "    </tr>\n",
       "    <tr>\n",
       "      <th>4</th>\n",
       "      <td>disgust</td>\n",
       "      <td>/kaggle/input/cremad/AudioWAV1066_TIE_DIS_XX.wav</td>\n",
       "    </tr>\n",
       "  </tbody>\n",
       "</table>\n",
       "</div>"
      ],
      "text/plain": [
       "  Emotions                                              Path\n",
       "0  disgust  /kaggle/input/cremad/AudioWAV1028_TSI_DIS_XX.wav\n",
       "1    happy  /kaggle/input/cremad/AudioWAV1075_IEO_HAP_LO.wav\n",
       "2    happy  /kaggle/input/cremad/AudioWAV1084_ITS_HAP_XX.wav\n",
       "3  disgust  /kaggle/input/cremad/AudioWAV1067_IWW_DIS_XX.wav\n",
       "4  disgust  /kaggle/input/cremad/AudioWAV1066_TIE_DIS_XX.wav"
      ]
     },
     "execution_count": 5,
     "metadata": {},
     "output_type": "execute_result"
    }
   ],
   "source": [
    "\n",
    "# creating Dataframe using all the 4 dataframes we created so far.\n",
    "data_path = pd.concat([Crema_df], axis = 0)  # change this line and use correct dimensions\n",
    "data_path.to_csv(\"data_path.csv\",index=False)\n",
    "data_path.head()"
   ]
  },
  {
   "cell_type": "code",
   "execution_count": 6,
   "id": "f1ebbd0d",
   "metadata": {
    "execution": {
     "iopub.execute_input": "2024-02-13T17:58:40.053207Z",
     "iopub.status.busy": "2024-02-13T17:58:40.044287Z",
     "iopub.status.idle": "2024-02-13T17:58:40.062076Z",
     "shell.execute_reply": "2024-02-13T17:58:40.060887Z"
    },
    "papermill": {
     "duration": 0.026701,
     "end_time": "2024-02-13T17:58:40.064951",
     "exception": false,
     "start_time": "2024-02-13T17:58:40.038250",
     "status": "completed"
    },
    "tags": []
   },
   "outputs": [
    {
     "name": "stdout",
     "output_type": "stream",
     "text": [
      "Emotions\n",
      "disgust    1271\n",
      "happy      1271\n",
      "sad        1271\n",
      "fear       1271\n",
      "angry      1271\n",
      "neutral    1087\n",
      "Name: count, dtype: int64\n"
     ]
    }
   ],
   "source": [
    "print(data_path.Emotions.value_counts())"
   ]
  },
  {
   "cell_type": "code",
   "execution_count": 7,
   "id": "e89f988c",
   "metadata": {
    "execution": {
     "iopub.execute_input": "2024-02-13T17:58:40.076587Z",
     "iopub.status.busy": "2024-02-13T17:58:40.075391Z",
     "iopub.status.idle": "2024-02-13T17:58:40.385555Z",
     "shell.execute_reply": "2024-02-13T17:58:40.384204Z"
    },
    "papermill": {
     "duration": 0.321572,
     "end_time": "2024-02-13T17:58:40.391076",
     "exception": false,
     "start_time": "2024-02-13T17:58:40.069504",
     "status": "completed"
    },
    "tags": []
   },
   "outputs": [
    {
     "data": {
      "image/png": "[encoded data removed]",
      "text/plain": [
       "<Figure size 640x480 with 1 Axes>"
      ]
     },
     "metadata": {},
     "output_type": "display_data"
    }
   ],
   "source": [
    "import matplotlib.pyplot as plt\n",
    "import seaborn as sns\n",
    "\n",
    "# Ensure 'Emotions' is treated as a categorical variable\n",
    "data_path['Emotions'] = data_path['Emotions'].astype('category')\n",
    "\n",
    "# Specify the data parameter in countplot\n",
    "plt.title('Count of Emotions', size=16)\n",
    "sns.countplot(data=data_path, x='Emotions')\n",
    "plt.ylabel('Count', size=12)\n",
    "plt.xlabel('Emotions', size=12)\n",
    "sns.despine(top=True, right=True, left=False, bottom=False)\n",
    "plt.show()\n"
   ]
  },
  {
   "cell_type": "code",
   "execution_count": null,
   "id": "7e5aae87",
   "metadata": {
    "papermill": {
     "duration": 0.005196,
     "end_time": "2024-02-13T17:58:40.403562",
     "exception": false,
     "start_time": "2024-02-13T17:58:40.398366",
     "status": "completed"
    },
    "tags": []
   },
   "outputs": [],
   "source": []
  }
 ],
 "metadata": {
  "kaggle": {
   "accelerator": "none",
   "dataSources": [
    {
     "datasetId": 325566,
     "sourceId": 653195,
     "sourceType": "datasetVersion"
    }
   ],
   "dockerImageVersionId": 30646,
   "isGpuEnabled": false,
   "isInternetEnabled": false,
   "language": "python",
   "sourceType": "notebook"
  },
  "kernelspec": {
   "display_name": "Python 3",
   "language": "python",
   "name": "python3"
  },
  "language_info": {
   "codemirror_mode": {
    "name": "ipython",
    "version": 3
   },
   "file_extension": ".py",
   "mimetype": "text/x-python",
   "name": "python",
   "nbconvert_exporter": "python",
   "pygments_lexer": "ipython3",
   "version": "3.10.13"
  },
  "papermill": {
   "default_parameters": {},
   "duration": 25.579458,
   "end_time": "2024-02-13T17:58:42.858224",
   "environment_variables": {},
   "exception": null,
   "input_path": "__notebook__.ipynb",
   "output_path": "__notebook__.ipynb",
   "parameters": {},
   "start_time": "2024-02-13T17:58:17.278766",
   "version": "2.5.0"
  }
 },
 "nbformat": 4,
 "nbformat_minor": 5
}
